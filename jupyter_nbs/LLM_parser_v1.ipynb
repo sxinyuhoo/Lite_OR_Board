{
 "cells": [
  {
   "cell_type": "markdown",
   "metadata": {},
   "source": [
    "Support:  \n",
    "- LLM identify the constraints and the objective function  \n",
    "- LLM parse the input   \n",
    "- auto construct the pyomo model  \n",
    "- output the LP file   \n",
    "- specify the solver and load the LP file  \n",
    "- solve the model  \n",
    "- output the solution   "
   ]
  },
  {
   "cell_type": "code",
   "execution_count": null,
   "metadata": {},
   "outputs": [],
   "source": []
  }
 ],
 "metadata": {
  "kernelspec": {
   "display_name": "OR",
   "language": "python",
   "name": "python3"
  },
  "language_info": {
   "name": "python",
   "version": "3.9.16"
  }
 },
 "nbformat": 4,
 "nbformat_minor": 2
}
