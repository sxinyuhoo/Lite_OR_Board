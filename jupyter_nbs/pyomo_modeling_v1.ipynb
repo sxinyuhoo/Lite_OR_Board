{
 "cells": [
  {
   "cell_type": "markdown",
   "metadata": {},
   "source": [
    "Construct a pyomo model based on the following linear program:\n",
    "\n",
    "$$\n",
    "\\begin{array}{ll} \\min & 2 x_1 + 3 x_2\\\\ \\mathrm{s.t.} & 3 x_1 + 4 x_2 \\geq 1\\\\ & x_1, x_2 \\geq 0 \\end{array}\n",
    "$$\n",
    "\n",
    "<!-- $$\n",
    "\\begin{array}{lll} \n",
    "\\min & \\sum_{j=1}^n c_j x_j &\\\\ \\mathrm{s.t.} & \\sum_{j=1}^n a_{ij} x_j \\geq b_i & \\forall i = 1 \\ldots m\\\\ & x_j \\geq 0 & \\forall j = 1 \\ldots n \n",
    "\\end{array}\n",
    "$$ -->"
   ]
  },
  {
   "cell_type": "markdown",
   "metadata": {},
   "source": [
    "# 1. IMPORT"
   ]
  },
  {
   "cell_type": "code",
   "execution_count": 1,
   "metadata": {},
   "outputs": [],
   "source": [
    "import pyomo as pyo\n",
    "from pyomo.environ import *\n",
    "from pyomo.opt import SolverFactory"
   ]
  },
  {
   "cell_type": "markdown",
   "metadata": {},
   "source": [
    "# 2. DEFINE THE MODEL"
   ]
  },
  {
   "cell_type": "code",
   "execution_count": 26,
   "metadata": {},
   "outputs": [],
   "source": [
    "# define the model\n",
    "model = ConcreteModel(name='my_first_model')\n",
    "\n",
    "# step 1: define the decision variables\n",
    "model.x1 = Var(within=NonNegativeReals)\n",
    "model.x2 = Var(within=NonNegativeReals)\n",
    "\n",
    "# step 2: define the constraints\n",
    "def constraint_rule1(model):\n",
    "    return 3*model.x1 + 4*model.x2 >= 1\n",
    "model.cons1 = Constraint(rule=constraint_rule1)\n",
    "\n",
    "# step 3: define the objective function\n",
    "def objective_rule(model):\n",
    "    return 2*model.x1 + 3*model.x2\n",
    "model.obj = Objective(rule=objective_rule, sense=minimize)"
   ]
  },
  {
   "cell_type": "markdown",
   "metadata": {},
   "source": [
    "# 3. SOLVE THE MODEL"
   ]
  },
  {
   "cell_type": "code",
   "execution_count": 51,
   "metadata": {},
   "outputs": [
    {
     "name": "stdout",
     "output_type": "stream",
     "text": [
      "# ==========================================================\n",
      "# = Solver Results                                         =\n",
      "# ==========================================================\n",
      "# ----------------------------------------------------------\n",
      "#   Problem Information\n",
      "# ----------------------------------------------------------\n",
      "Problem: \n",
      "- Name: unknown\n",
      "  Lower bound: 0.666666666666667\n",
      "  Upper bound: 0.666666666666667\n",
      "  Number of objectives: 1\n",
      "  Number of constraints: 1\n",
      "  Number of variables: 2\n",
      "  Number of nonzeros: 2\n",
      "  Sense: minimize\n",
      "# ----------------------------------------------------------\n",
      "#   Solver Information\n",
      "# ----------------------------------------------------------\n",
      "Solver: \n",
      "- Status: ok\n",
      "  Termination condition: optimal\n",
      "  Statistics: \n",
      "    Branch and bound: \n",
      "      Number of bounded subproblems: 0\n",
      "      Number of created subproblems: 0\n",
      "  Error rc: 0\n",
      "  Time: 0.012667179107666016\n",
      "# ----------------------------------------------------------\n",
      "#   Solution Information\n",
      "# ----------------------------------------------------------\n",
      "Solution: \n",
      "- number of solutions: 0\n",
      "  number of solutions displayed: 0\n"
     ]
    }
   ],
   "source": [
    "glpk_res = SolverFactory('glpk').solve(model).write()"
   ]
  },
  {
   "cell_type": "code",
   "execution_count": 54,
   "metadata": {},
   "outputs": [
    {
     "name": "stdout",
     "output_type": "stream",
     "text": [
      "# ==========================================================\n",
      "# = Solver Results                                         =\n",
      "# ==========================================================\n",
      "# ----------------------------------------------------------\n",
      "#   Problem Information\n",
      "# ----------------------------------------------------------\n",
      "Problem: \n",
      "- Lower bound: -inf\n",
      "  Upper bound: 0.666666666666666\n",
      "  Number of objectives: 1\n",
      "  Number of constraints: 0\n",
      "  Number of variables: 2\n",
      "  Sense: unknown\n",
      "# ----------------------------------------------------------\n",
      "#   Solver Information\n",
      "# ----------------------------------------------------------\n",
      "Solver: \n",
      "- Status: ok\n",
      "  Message: optimal solution found\n",
      "  Termination condition: optimal\n",
      "  Id: 0\n",
      "  Error rc: 0\n",
      "  Time: 0.01\n",
      "  Gap: 0.0\n",
      "  Primal bound: 0.666666666666666\n",
      "  Dual bound: 0.666666666666666\n",
      "# ----------------------------------------------------------\n",
      "#   Solution Information\n",
      "# ----------------------------------------------------------\n",
      "Solution: \n",
      "- number of solutions: 0\n",
      "  number of solutions displayed: 0\n"
     ]
    }
   ],
   "source": [
    "SolverFactory('scip').solve(model).write()"
   ]
  },
  {
   "cell_type": "code",
   "execution_count": 55,
   "metadata": {},
   "outputs": [
    {
     "name": "stdout",
     "output_type": "stream",
     "text": [
      "obj = 0.6666666666666666\n",
      "x1 = 0.3333333333333333\n",
      "x2 = 0.0\n"
     ]
    }
   ],
   "source": [
    "print('obj =', model.obj())\n",
    "print('x1 =', model.x1())\n",
    "print('x2 =', model.x2())"
   ]
  },
  {
   "cell_type": "markdown",
   "metadata": {},
   "source": [
    "# 4. EXPORT MODEL TO MPS/LP FILE"
   ]
  },
  {
   "cell_type": "code",
   "execution_count": 29,
   "metadata": {},
   "outputs": [
    {
     "data": {
      "text/plain": [
       "('./test_model.lp', 4605974560)"
      ]
     },
     "execution_count": 29,
     "metadata": {},
     "output_type": "execute_result"
    }
   ],
   "source": [
    "model.write('./test_model.lp', io_options={'symbolic_solver_labels': True})"
   ]
  },
  {
   "cell_type": "code",
   "execution_count": 30,
   "metadata": {},
   "outputs": [
    {
     "data": {
      "text/plain": [
       "('./test_model.mps', 4605974416)"
      ]
     },
     "execution_count": 30,
     "metadata": {},
     "output_type": "execute_result"
    }
   ],
   "source": [
    "model.write('./test_model.mps', io_options={'symbolic_solver_labels': True})"
   ]
  },
  {
   "cell_type": "markdown",
   "metadata": {},
   "source": [
    "# 5. IMPORT MPS/LP FILE"
   ]
  },
  {
   "cell_type": "markdown",
   "metadata": {},
   "source": [
    "## 5.1 OR-TOOLS"
   ]
  },
  {
   "cell_type": "code",
   "execution_count": 33,
   "metadata": {},
   "outputs": [],
   "source": [
    "from ortools.linear_solver import pywraplp\n",
    "from ortools.linear_solver.python import model_builder"
   ]
  },
  {
   "cell_type": "code",
   "execution_count": 90,
   "metadata": {},
   "outputs": [
    {
     "name": "stdout",
     "output_type": "stream",
     "text": [
      "objective value = 0.6666666666860692\n",
      "x1 = 0.333333\n",
      "x2 = 0.000000\n"
     ]
    }
   ],
   "source": [
    "ortools_model = model_builder.ModelBuilder()\n",
    "# ortools_model.import_from_lp_file('./test_model.lp')\n",
    "ortools_model.import_from_mps_file('./test_model.mps')\n",
    "\n",
    "\n",
    "ortools_solver = model_builder.ModelSolver('SCIP') # GLOP\n",
    "ortools_solver.solve(ortools_model)\n",
    "\n",
    "print('objective value =', ortools_solver.objective_value)\n",
    "ortools_variables = [ortools_model.var_from_index(i) for i in range(ortools_model.num_variables)]\n",
    "for variable in ortools_variables:\n",
    "    print('%s = %f' % (variable.name, ortools_solver.value(variable)))"
   ]
  }
 ],
 "metadata": {
  "kernelspec": {
   "display_name": "OR",
   "language": "python",
   "name": "python3"
  },
  "language_info": {
   "codemirror_mode": {
    "name": "ipython",
    "version": 3
   },
   "file_extension": ".py",
   "mimetype": "text/x-python",
   "name": "python",
   "nbconvert_exporter": "python",
   "pygments_lexer": "ipython3",
   "version": "3.9.16"
  }
 },
 "nbformat": 4,
 "nbformat_minor": 2
}
